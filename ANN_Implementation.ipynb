{
 "cells": [
  {
   "cell_type": "code",
   "execution_count": 1,
   "metadata": {},
   "outputs": [],
   "source": [
    "import numpy as np\n",
    "import matplotlib.pyplot as plt\n",
    "import pandas as pd"
   ]
  },
  {
   "cell_type": "markdown",
   "metadata": {},
   "source": [
    "# Importing the dataset"
   ]
  },
  {
   "cell_type": "code",
   "execution_count": 2,
   "metadata": {},
   "outputs": [],
   "source": [
    "df = pd.read_csv('Churn_Modelling.csv')"
   ]
  },
  {
   "cell_type": "code",
   "execution_count": 3,
   "metadata": {},
   "outputs": [
    {
     "data": {
      "text/html": [
       "<div>\n",
       "<style scoped>\n",
       "    .dataframe tbody tr th:only-of-type {\n",
       "        vertical-align: middle;\n",
       "    }\n",
       "\n",
       "    .dataframe tbody tr th {\n",
       "        vertical-align: top;\n",
       "    }\n",
       "\n",
       "    .dataframe thead th {\n",
       "        text-align: right;\n",
       "    }\n",
       "</style>\n",
       "<table border=\"1\" class=\"dataframe\">\n",
       "  <thead>\n",
       "    <tr style=\"text-align: right;\">\n",
       "      <th></th>\n",
       "      <th>RowNumber</th>\n",
       "      <th>CustomerId</th>\n",
       "      <th>Surname</th>\n",
       "      <th>CreditScore</th>\n",
       "      <th>Geography</th>\n",
       "      <th>Gender</th>\n",
       "      <th>Age</th>\n",
       "      <th>Tenure</th>\n",
       "      <th>Balance</th>\n",
       "      <th>NumOfProducts</th>\n",
       "      <th>HasCrCard</th>\n",
       "      <th>IsActiveMember</th>\n",
       "      <th>EstimatedSalary</th>\n",
       "      <th>Exited</th>\n",
       "    </tr>\n",
       "  </thead>\n",
       "  <tbody>\n",
       "    <tr>\n",
       "      <th>0</th>\n",
       "      <td>1</td>\n",
       "      <td>15634602</td>\n",
       "      <td>Hargrave</td>\n",
       "      <td>619</td>\n",
       "      <td>France</td>\n",
       "      <td>Female</td>\n",
       "      <td>42</td>\n",
       "      <td>2</td>\n",
       "      <td>0.00</td>\n",
       "      <td>1</td>\n",
       "      <td>1</td>\n",
       "      <td>1</td>\n",
       "      <td>101348.88</td>\n",
       "      <td>1</td>\n",
       "    </tr>\n",
       "    <tr>\n",
       "      <th>1</th>\n",
       "      <td>2</td>\n",
       "      <td>15647311</td>\n",
       "      <td>Hill</td>\n",
       "      <td>608</td>\n",
       "      <td>Spain</td>\n",
       "      <td>Female</td>\n",
       "      <td>41</td>\n",
       "      <td>1</td>\n",
       "      <td>83807.86</td>\n",
       "      <td>1</td>\n",
       "      <td>0</td>\n",
       "      <td>1</td>\n",
       "      <td>112542.58</td>\n",
       "      <td>0</td>\n",
       "    </tr>\n",
       "    <tr>\n",
       "      <th>2</th>\n",
       "      <td>3</td>\n",
       "      <td>15619304</td>\n",
       "      <td>Onio</td>\n",
       "      <td>502</td>\n",
       "      <td>France</td>\n",
       "      <td>Female</td>\n",
       "      <td>42</td>\n",
       "      <td>8</td>\n",
       "      <td>159660.80</td>\n",
       "      <td>3</td>\n",
       "      <td>1</td>\n",
       "      <td>0</td>\n",
       "      <td>113931.57</td>\n",
       "      <td>1</td>\n",
       "    </tr>\n",
       "    <tr>\n",
       "      <th>3</th>\n",
       "      <td>4</td>\n",
       "      <td>15701354</td>\n",
       "      <td>Boni</td>\n",
       "      <td>699</td>\n",
       "      <td>France</td>\n",
       "      <td>Female</td>\n",
       "      <td>39</td>\n",
       "      <td>1</td>\n",
       "      <td>0.00</td>\n",
       "      <td>2</td>\n",
       "      <td>0</td>\n",
       "      <td>0</td>\n",
       "      <td>93826.63</td>\n",
       "      <td>0</td>\n",
       "    </tr>\n",
       "    <tr>\n",
       "      <th>4</th>\n",
       "      <td>5</td>\n",
       "      <td>15737888</td>\n",
       "      <td>Mitchell</td>\n",
       "      <td>850</td>\n",
       "      <td>Spain</td>\n",
       "      <td>Female</td>\n",
       "      <td>43</td>\n",
       "      <td>2</td>\n",
       "      <td>125510.82</td>\n",
       "      <td>1</td>\n",
       "      <td>1</td>\n",
       "      <td>1</td>\n",
       "      <td>79084.10</td>\n",
       "      <td>0</td>\n",
       "    </tr>\n",
       "  </tbody>\n",
       "</table>\n",
       "</div>"
      ],
      "text/plain": [
       "   RowNumber  CustomerId   Surname  CreditScore Geography  Gender  Age  \\\n",
       "0          1    15634602  Hargrave          619    France  Female   42   \n",
       "1          2    15647311      Hill          608     Spain  Female   41   \n",
       "2          3    15619304      Onio          502    France  Female   42   \n",
       "3          4    15701354      Boni          699    France  Female   39   \n",
       "4          5    15737888  Mitchell          850     Spain  Female   43   \n",
       "\n",
       "   Tenure    Balance  NumOfProducts  HasCrCard  IsActiveMember  \\\n",
       "0       2       0.00              1          1               1   \n",
       "1       1   83807.86              1          0               1   \n",
       "2       8  159660.80              3          1               0   \n",
       "3       1       0.00              2          0               0   \n",
       "4       2  125510.82              1          1               1   \n",
       "\n",
       "   EstimatedSalary  Exited  \n",
       "0        101348.88       1  \n",
       "1        112542.58       0  \n",
       "2        113931.57       1  \n",
       "3         93826.63       0  \n",
       "4         79084.10       0  "
      ]
     },
     "execution_count": 3,
     "metadata": {},
     "output_type": "execute_result"
    }
   ],
   "source": [
    "df.head()"
   ]
  },
  {
   "cell_type": "code",
   "execution_count": 4,
   "metadata": {},
   "outputs": [],
   "source": [
    "X = df.iloc[:, 3:13].values\n",
    "y = df.iloc[:, 13].values"
   ]
  },
  {
   "cell_type": "markdown",
   "metadata": {},
   "source": [
    "# Encoding categorical data"
   ]
  },
  {
   "cell_type": "code",
   "execution_count": 7,
   "metadata": {},
   "outputs": [
    {
     "name": "stderr",
     "output_type": "stream",
     "text": [
      "C:\\Anaconda3\\envs\\idp\\lib\\site-packages\\sklearn\\preprocessing\\_encoders.py:363: FutureWarning: The handling of integer data will change in version 0.22. Currently, the categories are determined based on the range [0, max(values)], while in the future they will be determined based on the unique values.\n",
      "If you want the future behaviour and silence this warning, you can specify \"categories='auto'\".\n",
      "In case you used a LabelEncoder before this OneHotEncoder to convert the categories to integers, then you can now use the OneHotEncoder directly.\n",
      "  warnings.warn(msg, FutureWarning)\n",
      "C:\\Anaconda3\\envs\\idp\\lib\\site-packages\\sklearn\\preprocessing\\_encoders.py:385: DeprecationWarning: The 'categorical_features' keyword is deprecated in version 0.20 and will be removed in 0.22. You can use the ColumnTransformer instead.\n",
      "  \"use the ColumnTransformer instead.\", DeprecationWarning)\n"
     ]
    }
   ],
   "source": [
    "from sklearn.preprocessing import LabelEncoder, OneHotEncoder\n",
    "labelencoder_X_1 = LabelEncoder()\n",
    "X[:, 1] = labelencoder_X_1.fit_transform(X[:, 1])\n",
    "labelencoder_X_2 = LabelEncoder()\n",
    "X[:, 2] = labelencoder_X_2.fit_transform(X[:, 2])\n",
    "onehotencoder = OneHotEncoder(categorical_features = [1])\n",
    "X = onehotencoder.fit_transform(X).toarray()\n",
    "X = X[:, 1:]"
   ]
  },
  {
   "cell_type": "code",
   "execution_count": 8,
   "metadata": {},
   "outputs": [
    {
     "data": {
      "text/plain": [
       "array([[0.0000000e+00, 0.0000000e+00, 2.2800000e+02, ..., 1.0000000e+00,\n",
       "        1.0000000e+00, 1.0134888e+05],\n",
       "       [1.0000000e+00, 0.0000000e+00, 2.1700000e+02, ..., 0.0000000e+00,\n",
       "        1.0000000e+00, 1.1254258e+05],\n",
       "       [0.0000000e+00, 0.0000000e+00, 1.1100000e+02, ..., 1.0000000e+00,\n",
       "        0.0000000e+00, 1.1393157e+05],\n",
       "       ...,\n",
       "       [0.0000000e+00, 0.0000000e+00, 3.1800000e+02, ..., 0.0000000e+00,\n",
       "        1.0000000e+00, 4.2085580e+04],\n",
       "       [0.0000000e+00, 1.0000000e+00, 3.8100000e+02, ..., 1.0000000e+00,\n",
       "        0.0000000e+00, 9.2888520e+04],\n",
       "       [0.0000000e+00, 0.0000000e+00, 4.0100000e+02, ..., 1.0000000e+00,\n",
       "        0.0000000e+00, 3.8190780e+04]])"
      ]
     },
     "execution_count": 8,
     "metadata": {},
     "output_type": "execute_result"
    }
   ],
   "source": [
    "X"
   ]
  },
  {
   "cell_type": "markdown",
   "metadata": {},
   "source": [
    "# Splitting the dataset into the Training set and Test set"
   ]
  },
  {
   "cell_type": "code",
   "execution_count": 9,
   "metadata": {},
   "outputs": [],
   "source": [
    "from sklearn.model_selection import train_test_split\n",
    "X_train, X_test, y_train, y_test = train_test_split(X, y, test_size = 0.2, random_state = 0)"
   ]
  },
  {
   "cell_type": "markdown",
   "metadata": {},
   "source": [
    "# Feature Scaling"
   ]
  },
  {
   "cell_type": "code",
   "execution_count": 10,
   "metadata": {},
   "outputs": [],
   "source": [
    "from sklearn.preprocessing import StandardScaler\n",
    "sc = StandardScaler()\n",
    "X_train = sc.fit_transform(X_train)\n",
    "X_test = sc.transform(X_test)"
   ]
  },
  {
   "cell_type": "markdown",
   "metadata": {},
   "source": [
    "# Now let's make the ANN!\n",
    "* Importing the Keras libraries and packages"
   ]
  },
  {
   "cell_type": "code",
   "execution_count": 14,
   "metadata": {},
   "outputs": [
    {
     "name": "stderr",
     "output_type": "stream",
     "text": [
      "Using TensorFlow backend.\n"
     ]
    }
   ],
   "source": [
    "import keras\n",
    "from keras.models import Sequential\n",
    "from keras.layers import Dense"
   ]
  },
  {
   "cell_type": "markdown",
   "metadata": {},
   "source": [
    "* Initialising the ANN"
   ]
  },
  {
   "cell_type": "code",
   "execution_count": 15,
   "metadata": {},
   "outputs": [],
   "source": [
    "classifier = Sequential()"
   ]
  },
  {
   "cell_type": "markdown",
   "metadata": {},
   "source": [
    "* Adding the input layer and the first hidden layer\n"
   ]
  },
  {
   "cell_type": "code",
   "execution_count": 16,
   "metadata": {},
   "outputs": [
    {
     "name": "stderr",
     "output_type": "stream",
     "text": [
      "C:\\Anaconda3\\envs\\idp\\lib\\site-packages\\ipykernel_launcher.py:1: UserWarning: Update your `Dense` call to the Keras 2 API: `Dense(activation=\"relu\", input_dim=11, units=6, kernel_initializer=\"uniform\")`\n",
      "  \"\"\"Entry point for launching an IPython kernel.\n"
     ]
    },
    {
     "name": "stdout",
     "output_type": "stream",
     "text": [
      "WARNING:tensorflow:From C:\\Anaconda3\\envs\\idp\\lib\\site-packages\\tensorflow\\python\\ops\\resource_variable_ops.py:435: colocate_with (from tensorflow.python.framework.ops) is deprecated and will be removed in a future version.\n",
      "Instructions for updating:\n",
      "Colocations handled automatically by placer.\n"
     ]
    }
   ],
   "source": [
    "classifier.add(Dense(output_dim = 6, init = 'uniform', activation = 'relu', input_dim = 11))"
   ]
  },
  {
   "cell_type": "markdown",
   "metadata": {},
   "source": [
    "*  Adding the second hidden layer"
   ]
  },
  {
   "cell_type": "code",
   "execution_count": 17,
   "metadata": {},
   "outputs": [
    {
     "name": "stderr",
     "output_type": "stream",
     "text": [
      "C:\\Anaconda3\\envs\\idp\\lib\\site-packages\\ipykernel_launcher.py:1: UserWarning: Update your `Dense` call to the Keras 2 API: `Dense(activation=\"relu\", units=6, kernel_initializer=\"uniform\")`\n",
      "  \"\"\"Entry point for launching an IPython kernel.\n"
     ]
    }
   ],
   "source": [
    "classifier.add(Dense(output_dim = 6, init = 'uniform', activation = 'relu'))"
   ]
  },
  {
   "cell_type": "markdown",
   "metadata": {},
   "source": [
    "* Adding the output layer\n"
   ]
  },
  {
   "cell_type": "code",
   "execution_count": 19,
   "metadata": {},
   "outputs": [
    {
     "name": "stderr",
     "output_type": "stream",
     "text": [
      "C:\\Anaconda3\\envs\\idp\\lib\\site-packages\\ipykernel_launcher.py:1: UserWarning: Update your `Dense` call to the Keras 2 API: `Dense(activation=\"sigmoid\", units=1, kernel_initializer=\"uniform\")`\n",
      "  \"\"\"Entry point for launching an IPython kernel.\n"
     ]
    }
   ],
   "source": [
    "classifier.add(Dense(output_dim = 1, init = 'uniform', activation = 'sigmoid'))"
   ]
  },
  {
   "cell_type": "markdown",
   "metadata": {},
   "source": [
    "\n",
    "* Compiling the ANN"
   ]
  },
  {
   "cell_type": "code",
   "execution_count": 20,
   "metadata": {},
   "outputs": [],
   "source": [
    "classifier.compile(optimizer = 'adam', loss = 'binary_crossentropy', metrics = ['accuracy'])"
   ]
  },
  {
   "cell_type": "markdown",
   "metadata": {},
   "source": [
    "* Fitting the ANN to the Training set"
   ]
  },
  {
   "cell_type": "code",
   "execution_count": 21,
   "metadata": {},
   "outputs": [
    {
     "name": "stderr",
     "output_type": "stream",
     "text": [
      "C:\\Anaconda3\\envs\\idp\\lib\\site-packages\\ipykernel_launcher.py:1: UserWarning: The `nb_epoch` argument in `fit` has been renamed `epochs`.\n",
      "  \"\"\"Entry point for launching an IPython kernel.\n"
     ]
    },
    {
     "name": "stdout",
     "output_type": "stream",
     "text": [
      "WARNING:tensorflow:From C:\\Anaconda3\\envs\\idp\\lib\\site-packages\\tensorflow\\python\\ops\\math_ops.py:3066: to_int32 (from tensorflow.python.ops.math_ops) is deprecated and will be removed in a future version.\n",
      "Instructions for updating:\n",
      "Use tf.cast instead.\n",
      "Epoch 1/100\n",
      "8000/8000 [==============================] - 3s 346us/step - loss: 0.4892 - accuracy: 0.7956\n",
      "Epoch 2/100\n",
      "8000/8000 [==============================] - 2s 215us/step - loss: 0.4284 - accuracy: 0.7960\n",
      "Epoch 3/100\n",
      "8000/8000 [==============================] - 2s 215us/step - loss: 0.4233 - accuracy: 0.7960\n",
      "Epoch 4/100\n",
      "8000/8000 [==============================] - 2s 218us/step - loss: 0.4194 - accuracy: 0.8144\n",
      "Epoch 5/100\n",
      "8000/8000 [==============================] - 2s 212us/step - loss: 0.4171 - accuracy: 0.8236\n",
      "Epoch 6/100\n",
      "8000/8000 [==============================] - 2s 213us/step - loss: 0.4152 - accuracy: 0.8267\n",
      "Epoch 7/100\n",
      "8000/8000 [==============================] - 2s 210us/step - loss: 0.4136 - accuracy: 0.8291\n",
      "Epoch 8/100\n",
      "8000/8000 [==============================] - 2s 217us/step - loss: 0.4123 - accuracy: 0.8313\n",
      "Epoch 9/100\n",
      "8000/8000 [==============================] - 2s 211us/step - loss: 0.4111 - accuracy: 0.8309\n",
      "Epoch 10/100\n",
      "8000/8000 [==============================] - 2s 211us/step - loss: 0.4105 - accuracy: 0.8325\n",
      "Epoch 11/100\n",
      "8000/8000 [==============================] - 2s 217us/step - loss: 0.4091 - accuracy: 0.8338\n",
      "Epoch 12/100\n",
      "8000/8000 [==============================] - 2s 209us/step - loss: 0.4087 - accuracy: 0.8341\n",
      "Epoch 13/100\n",
      "8000/8000 [==============================] - 2s 214us/step - loss: 0.4079 - accuracy: 0.8344\n",
      "Epoch 14/100\n",
      "8000/8000 [==============================] - 2s 216us/step - loss: 0.4073 - accuracy: 0.8339\n",
      "Epoch 15/100\n",
      "8000/8000 [==============================] - 2s 214us/step - loss: 0.4067 - accuracy: 0.8347\n",
      "Epoch 16/100\n",
      "8000/8000 [==============================] - 2s 217us/step - loss: 0.4066 - accuracy: 0.8353\n",
      "Epoch 17/100\n",
      "8000/8000 [==============================] - 2s 217us/step - loss: 0.4059 - accuracy: 0.8344\n",
      "Epoch 18/100\n",
      "8000/8000 [==============================] - 2s 244us/step - loss: 0.4052 - accuracy: 0.8342\n",
      "Epoch 19/100\n",
      "8000/8000 [==============================] - 2s 221us/step - loss: 0.4049 - accuracy: 0.8338\n",
      "Epoch 20/100\n",
      "8000/8000 [==============================] - 2s 217us/step - loss: 0.4051 - accuracy: 0.8354\n",
      "Epoch 21/100\n",
      "8000/8000 [==============================] - 2s 214us/step - loss: 0.4045 - accuracy: 0.8347\n",
      "Epoch 22/100\n",
      "8000/8000 [==============================] - 2s 265us/step - loss: 0.4042 - accuracy: 0.8355\n",
      "Epoch 23/100\n",
      "8000/8000 [==============================] - 2s 248us/step - loss: 0.4040 - accuracy: 0.8354\n",
      "Epoch 24/100\n",
      "8000/8000 [==============================] - 2s 256us/step - loss: 0.4036 - accuracy: 0.8354\n",
      "Epoch 25/100\n",
      "8000/8000 [==============================] - 2s 278us/step - loss: 0.4036 - accuracy: 0.8342\n",
      "Epoch 26/100\n",
      "8000/8000 [==============================] - 2s 241us/step - loss: 0.4038 - accuracy: 0.8365\n",
      "Epoch 27/100\n",
      "8000/8000 [==============================] - 2s 228us/step - loss: 0.4029 - accuracy: 0.8354\n",
      "Epoch 28/100\n",
      "8000/8000 [==============================] - 2s 222us/step - loss: 0.4029 - accuracy: 0.8319\n",
      "Epoch 29/100\n",
      "8000/8000 [==============================] - 2s 220us/step - loss: 0.4031 - accuracy: 0.8359\n",
      "Epoch 30/100\n",
      "8000/8000 [==============================] - 2s 273us/step - loss: 0.4029 - accuracy: 0.8355\n",
      "Epoch 31/100\n",
      "8000/8000 [==============================] - 2s 217us/step - loss: 0.4030 - accuracy: 0.8350\n",
      "Epoch 32/100\n",
      "8000/8000 [==============================] - 2s 221us/step - loss: 0.4028 - accuracy: 0.8342\n",
      "Epoch 33/100\n",
      "8000/8000 [==============================] - 2s 231us/step - loss: 0.4023 - accuracy: 0.8359\n",
      "Epoch 34/100\n",
      "8000/8000 [==============================] - 2s 239us/step - loss: 0.4025 - accuracy: 0.8350\n",
      "Epoch 35/100\n",
      "8000/8000 [==============================] - 2s 229us/step - loss: 0.4028 - accuracy: 0.8344\n",
      "Epoch 36/100\n",
      "8000/8000 [==============================] - 2s 225us/step - loss: 0.4023 - accuracy: 0.8351\n",
      "Epoch 37/100\n",
      "8000/8000 [==============================] - 2s 224us/step - loss: 0.4023 - accuracy: 0.8356\n",
      "Epoch 38/100\n",
      "8000/8000 [==============================] - 2s 254us/step - loss: 0.4024 - accuracy: 0.8353\n",
      "Epoch 39/100\n",
      "8000/8000 [==============================] - 2s 278us/step - loss: 0.4020 - accuracy: 0.8360\n",
      "Epoch 40/100\n",
      "8000/8000 [==============================] - 2s 287us/step - loss: 0.4019 - accuracy: 0.8354\n",
      "Epoch 41/100\n",
      "8000/8000 [==============================] - 2s 222us/step - loss: 0.4022 - accuracy: 0.8354\n",
      "Epoch 42/100\n",
      "8000/8000 [==============================] - 2s 218us/step - loss: 0.4018 - accuracy: 0.8347\n",
      "Epoch 43/100\n",
      "8000/8000 [==============================] - 2s 218us/step - loss: 0.4021 - accuracy: 0.8353\n",
      "Epoch 44/100\n",
      "8000/8000 [==============================] - 2s 217us/step - loss: 0.4020 - accuracy: 0.8346\n",
      "Epoch 45/100\n",
      "8000/8000 [==============================] - 2s 218us/step - loss: 0.4015 - accuracy: 0.8346\n",
      "Epoch 46/100\n",
      "8000/8000 [==============================] - 2s 219us/step - loss: 0.4017 - accuracy: 0.8342\n",
      "Epoch 47/100\n",
      "8000/8000 [==============================] - 2s 224us/step - loss: 0.4016 - accuracy: 0.8351\n",
      "Epoch 48/100\n",
      "8000/8000 [==============================] - 2s 230us/step - loss: 0.4017 - accuracy: 0.8350\n",
      "Epoch 49/100\n",
      "8000/8000 [==============================] - 2s 226us/step - loss: 0.4019 - accuracy: 0.8351\n",
      "Epoch 50/100\n",
      "8000/8000 [==============================] - 2s 258us/step - loss: 0.4013 - accuracy: 0.8349\n",
      "Epoch 51/100\n",
      "8000/8000 [==============================] - 2s 231us/step - loss: 0.4012 - accuracy: 0.8354\n",
      "Epoch 52/100\n",
      "8000/8000 [==============================] - 2s 225us/step - loss: 0.4017 - accuracy: 0.8341\n",
      "Epoch 53/100\n",
      "8000/8000 [==============================] - 2s 227us/step - loss: 0.4013 - accuracy: 0.8349\n",
      "Epoch 54/100\n",
      "8000/8000 [==============================] - 2s 279us/step - loss: 0.4017 - accuracy: 0.8354\n",
      "Epoch 55/100\n",
      "8000/8000 [==============================] - 2s 228us/step - loss: 0.4014 - accuracy: 0.8351\n",
      "Epoch 56/100\n",
      "8000/8000 [==============================] - 2s 230us/step - loss: 0.4014 - accuracy: 0.8346\n",
      "Epoch 57/100\n",
      "8000/8000 [==============================] - 2s 227us/step - loss: 0.4014 - accuracy: 0.8324\n",
      "Epoch 58/100\n",
      "8000/8000 [==============================] - 2s 221us/step - loss: 0.4008 - accuracy: 0.8342\n",
      "Epoch 59/100\n",
      "8000/8000 [==============================] - 2s 296us/step - loss: 0.4013 - accuracy: 0.8350\n",
      "Epoch 60/100\n",
      "8000/8000 [==============================] - 2s 229us/step - loss: 0.4010 - accuracy: 0.8344\n",
      "Epoch 61/100\n",
      "8000/8000 [==============================] - 2s 225us/step - loss: 0.4011 - accuracy: 0.8341\n",
      "Epoch 62/100\n",
      "8000/8000 [==============================] - 2s 223us/step - loss: 0.4010 - accuracy: 0.8353\n",
      "Epoch 63/100\n",
      "8000/8000 [==============================] - 2s 236us/step - loss: 0.4012 - accuracy: 0.8360\n",
      "Epoch 64/100\n",
      "8000/8000 [==============================] - 2s 238us/step - loss: 0.4012 - accuracy: 0.8351\n",
      "Epoch 65/100\n",
      "8000/8000 [==============================] - 2s 221us/step - loss: 0.4007 - accuracy: 0.8342\n",
      "Epoch 66/100\n",
      "8000/8000 [==============================] - 2s 223us/step - loss: 0.4009 - accuracy: 0.8350\n",
      "Epoch 67/100\n",
      "8000/8000 [==============================] - 2s 233us/step - loss: 0.4010 - accuracy: 0.8354\n",
      "Epoch 68/100\n",
      "8000/8000 [==============================] - 2s 249us/step - loss: 0.4007 - accuracy: 0.8346\n",
      "Epoch 69/100\n",
      "8000/8000 [==============================] - 2s 221us/step - loss: 0.4006 - accuracy: 0.8353\n",
      "Epoch 70/100\n",
      "8000/8000 [==============================] - 2s 229us/step - loss: 0.4003 - accuracy: 0.8354\n",
      "Epoch 71/100\n",
      "8000/8000 [==============================] - 2s 226us/step - loss: 0.4012 - accuracy: 0.8354\n",
      "Epoch 72/100\n",
      "8000/8000 [==============================] - 2s 224us/step - loss: 0.4010 - accuracy: 0.8334\n",
      "Epoch 73/100\n",
      "8000/8000 [==============================] - 2s 256us/step - loss: 0.4011 - accuracy: 0.8335\n",
      "Epoch 74/100\n",
      "8000/8000 [==============================] - 2s 225us/step - loss: 0.4007 - accuracy: 0.8344\n",
      "Epoch 75/100\n",
      "8000/8000 [==============================] - 2s 225us/step - loss: 0.4004 - accuracy: 0.8356\n",
      "Epoch 76/100\n",
      "8000/8000 [==============================] - 2s 227us/step - loss: 0.4009 - accuracy: 0.8342\n",
      "Epoch 77/100\n",
      "8000/8000 [==============================] - 2s 229us/step - loss: 0.4007 - accuracy: 0.8351\n",
      "Epoch 78/100\n",
      "8000/8000 [==============================] - 2s 239us/step - loss: 0.4005 - accuracy: 0.8353\n",
      "Epoch 79/100\n",
      "8000/8000 [==============================] - 2s 228us/step - loss: 0.4002 - accuracy: 0.8344\n",
      "Epoch 80/100\n",
      "8000/8000 [==============================] - 2s 275us/step - loss: 0.3999 - accuracy: 0.8361\n",
      "Epoch 81/100\n",
      "8000/8000 [==============================] - 2s 239us/step - loss: 0.4004 - accuracy: 0.8350\n",
      "Epoch 82/100\n",
      "8000/8000 [==============================] - 2s 272us/step - loss: 0.4005 - accuracy: 0.8349\n",
      "Epoch 83/100\n",
      "8000/8000 [==============================] - ETA: 0s - loss: 0.4005 - accuracy: 0.83 - 2s 247us/step - loss: 0.4005 - accuracy: 0.8356\n",
      "Epoch 84/100\n",
      "8000/8000 [==============================] - 2s 238us/step - loss: 0.4004 - accuracy: 0.8366\n",
      "Epoch 85/100\n",
      "8000/8000 [==============================] - 2s 235us/step - loss: 0.4007 - accuracy: 0.8353\n",
      "Epoch 86/100\n",
      "8000/8000 [==============================] - 2s 234us/step - loss: 0.4005 - accuracy: 0.8350\n",
      "Epoch 87/100\n",
      "8000/8000 [==============================] - 2s 254us/step - loss: 0.4004 - accuracy: 0.8353\n",
      "Epoch 88/100\n",
      "8000/8000 [==============================] - 2s 305us/step - loss: 0.4004 - accuracy: 0.8347\n",
      "Epoch 89/100\n",
      "8000/8000 [==============================] - 2s 232us/step - loss: 0.3999 - accuracy: 0.8347\n",
      "Epoch 90/100\n",
      "8000/8000 [==============================] - 2s 232us/step - loss: 0.4004 - accuracy: 0.8365\n",
      "Epoch 91/100\n",
      "8000/8000 [==============================] - 2s 230us/step - loss: 0.4003 - accuracy: 0.8351\n",
      "Epoch 92/100\n",
      "8000/8000 [==============================] - 2s 228us/step - loss: 0.4003 - accuracy: 0.8354\n",
      "Epoch 93/100\n",
      "8000/8000 [==============================] - 2s 274us/step - loss: 0.4005 - accuracy: 0.8341\n",
      "Epoch 94/100\n",
      "8000/8000 [==============================] - 2s 232us/step - loss: 0.3998 - accuracy: 0.8355\n",
      "Epoch 95/100\n",
      "8000/8000 [==============================] - 2s 268us/step - loss: 0.4000 - accuracy: 0.8336\n",
      "Epoch 96/100\n",
      "8000/8000 [==============================] - 2s 251us/step - loss: 0.4000 - accuracy: 0.8350\n",
      "Epoch 97/100\n",
      "8000/8000 [==============================] - 2s 255us/step - loss: 0.4004 - accuracy: 0.8355\n",
      "Epoch 98/100\n",
      "8000/8000 [==============================] - 2s 248us/step - loss: 0.4001 - accuracy: 0.8353\n",
      "Epoch 99/100\n",
      "8000/8000 [==============================] - 2s 240us/step - loss: 0.3998 - accuracy: 0.8350\n",
      "Epoch 100/100\n",
      "8000/8000 [==============================] - 2s 235us/step - loss: 0.3996 - accuracy: 0.8353\n"
     ]
    },
    {
     "data": {
      "text/plain": [
       "<keras.callbacks.callbacks.History at 0x217c699ca90>"
      ]
     },
     "execution_count": 21,
     "metadata": {},
     "output_type": "execute_result"
    }
   ],
   "source": [
    "classifier.fit(X_train, y_train, batch_size = 10, nb_epoch = 100)"
   ]
  },
  {
   "cell_type": "markdown",
   "metadata": {},
   "source": [
    "# Predicting the Testset results"
   ]
  },
  {
   "cell_type": "code",
   "execution_count": 22,
   "metadata": {},
   "outputs": [],
   "source": [
    "y_pred = classifier.predict(X_test)\n",
    "y_pred = (y_pred > 0.5)"
   ]
  },
  {
   "cell_type": "markdown",
   "metadata": {},
   "source": [
    "* Making the Confusion Matrix"
   ]
  },
  {
   "cell_type": "code",
   "execution_count": 27,
   "metadata": {},
   "outputs": [],
   "source": [
    "from sklearn.metrics import confusion_matrix, accuracy_score"
   ]
  },
  {
   "cell_type": "code",
   "execution_count": null,
   "metadata": {},
   "outputs": [],
   "source": [
    "cm = confusion_matrix(y_test, y_pred)"
   ]
  },
  {
   "cell_type": "code",
   "execution_count": 24,
   "metadata": {},
   "outputs": [],
   "source": [
    "import seaborn as sn"
   ]
  },
  {
   "cell_type": "code",
   "execution_count": 29,
   "metadata": {},
   "outputs": [
    {
     "name": "stdout",
     "output_type": "stream",
     "text": [
      "Accuracy score:  83.95\n"
     ]
    }
   ],
   "source": [
    "print(\"Accuracy score: \",accuracy_score(y_test,y_pred)*100)"
   ]
  },
  {
   "cell_type": "code",
   "execution_count": 26,
   "metadata": {},
   "outputs": [
    {
     "data": {
      "image/png": "[encoded data removed]",
      "text/plain": [
       "<Figure size 432x288 with 2 Axes>"
      ]
     },
     "metadata": {
      "needs_background": "light"
     },
     "output_type": "display_data"
    }
   ],
   "source": [
    "sn.heatmap(cm,annot= True)\n",
    "plt.show()"
   ]
  },
  {
   "cell_type": "code",
   "execution_count": null,
   "metadata": {},
   "outputs": [],
   "source": []
  }
 ],
 "metadata": {
  "kernelspec": {
   "display_name": "Python 3",
   "language": "python",
   "name": "python3"
  },
  "language_info": {
   "codemirror_mode": {
    "name": "ipython",
    "version": 3
   },
   "file_extension": ".py",
   "mimetype": "text/x-python",
   "name": "python",
   "nbconvert_exporter": "python",
   "pygments_lexer": "ipython3",
   "version": "3.6.7"
  }
 },
 "nbformat": 4,
 "nbformat_minor": 4
}
