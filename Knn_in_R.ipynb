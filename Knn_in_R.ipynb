{
 "cells": [
  {
   "cell_type": "markdown",
   "metadata": {},
   "source": [
    "# K-Nearest Neighbors in R-programing"
   ]
  },
  {
   "cell_type": "markdown",
   "metadata": {},
   "source": [
    "## Importing the dataset"
   ]
  },
  {
   "cell_type": "code",
   "execution_count": 1,
   "metadata": {},
   "outputs": [
    {
     "data": {
      "text/html": [
       "<table>\n",
       "<thead><tr><th scope=col>User.ID</th><th scope=col>Gender</th><th scope=col>Age</th><th scope=col>EstimatedSalary</th><th scope=col>Purchased</th></tr></thead>\n",
       "<tbody>\n",
       "\t<tr><td>15624510</td><td>Male    </td><td>19      </td><td>19000   </td><td>0       </td></tr>\n",
       "\t<tr><td>15810944</td><td>Male    </td><td>35      </td><td>20000   </td><td>0       </td></tr>\n",
       "\t<tr><td>15668575</td><td>Female  </td><td>26      </td><td>43000   </td><td>0       </td></tr>\n",
       "\t<tr><td>15603246</td><td>Female  </td><td>27      </td><td>57000   </td><td>0       </td></tr>\n",
       "\t<tr><td>15804002</td><td>Male    </td><td>19      </td><td>76000   </td><td>0       </td></tr>\n",
       "\t<tr><td>15728773</td><td>Male    </td><td>27      </td><td>58000   </td><td>0       </td></tr>\n",
       "</tbody>\n",
       "</table>\n"
      ],
      "text/latex": [
       "\\begin{tabular}{r|lllll}\n",
       " User.ID & Gender & Age & EstimatedSalary & Purchased\\\\\n",
       "\\hline\n",
       "\t 15624510 & Male     & 19       & 19000    & 0       \\\\\n",
       "\t 15810944 & Male     & 35       & 20000    & 0       \\\\\n",
       "\t 15668575 & Female   & 26       & 43000    & 0       \\\\\n",
       "\t 15603246 & Female   & 27       & 57000    & 0       \\\\\n",
       "\t 15804002 & Male     & 19       & 76000    & 0       \\\\\n",
       "\t 15728773 & Male     & 27       & 58000    & 0       \\\\\n",
       "\\end{tabular}\n"
      ],
      "text/markdown": [
       "\n",
       "| User.ID | Gender | Age | EstimatedSalary | Purchased |\n",
       "|---|---|---|---|---|\n",
       "| 15624510 | Male     | 19       | 19000    | 0        |\n",
       "| 15810944 | Male     | 35       | 20000    | 0        |\n",
       "| 15668575 | Female   | 26       | 43000    | 0        |\n",
       "| 15603246 | Female   | 27       | 57000    | 0        |\n",
       "| 15804002 | Male     | 19       | 76000    | 0        |\n",
       "| 15728773 | Male     | 27       | 58000    | 0        |\n",
       "\n"
      ],
      "text/plain": [
       "  User.ID  Gender Age EstimatedSalary Purchased\n",
       "1 15624510 Male   19  19000           0        \n",
       "2 15810944 Male   35  20000           0        \n",
       "3 15668575 Female 26  43000           0        \n",
       "4 15603246 Female 27  57000           0        \n",
       "5 15804002 Male   19  76000           0        \n",
       "6 15728773 Male   27  58000           0        "
      ]
     },
     "metadata": {},
     "output_type": "display_data"
    }
   ],
   "source": [
    "dataset = read.csv('Social_Network_Ads.csv')\n",
    "head(dataset)"
   ]
  },
  {
   "cell_type": "code",
   "execution_count": 2,
   "metadata": {},
   "outputs": [],
   "source": [
    "dataset = dataset[3:5]"
   ]
  },
  {
   "cell_type": "markdown",
   "metadata": {},
   "source": [
    "# Encoding the target feature as factor"
   ]
  },
  {
   "cell_type": "code",
   "execution_count": 3,
   "metadata": {},
   "outputs": [],
   "source": [
    "dataset$Purchased = factor(dataset$Purchased, levels = c(0, 1))"
   ]
  },
  {
   "cell_type": "markdown",
   "metadata": {},
   "source": [
    "# Splitting the dataset into the Training set and Test set\n",
    "# install.packages('caTools')"
   ]
  },
  {
   "cell_type": "code",
   "execution_count": 6,
   "metadata": {},
   "outputs": [
    {
     "name": "stderr",
     "output_type": "stream",
     "text": [
      "also installing the dependency 'bitops'\n",
      "\n"
     ]
    },
    {
     "name": "stdout",
     "output_type": "stream",
     "text": [
      "package 'bitops' successfully unpacked and MD5 sums checked\n",
      "package 'caTools' successfully unpacked and MD5 sums checked\n",
      "\n",
      "The downloaded binary packages are in\n",
      "\tC:\\Users\\bimalgupta\\AppData\\Local\\Temp\\RtmpeMmXJ4\\downloaded_packages\n"
     ]
    },
    {
     "name": "stderr",
     "output_type": "stream",
     "text": [
      "Warning message:\n",
      "\"package 'caTools' was built under R version 3.6.1\""
     ]
    }
   ],
   "source": [
    "install.packages('caTools')\n",
    "library(caTools)"
   ]
  },
  {
   "cell_type": "code",
   "execution_count": 7,
   "metadata": {},
   "outputs": [],
   "source": [
    "set.seed(123)"
   ]
  },
  {
   "cell_type": "code",
   "execution_count": 8,
   "metadata": {},
   "outputs": [],
   "source": [
    "split = sample.split(dataset$Purchased, SplitRatio = 0.75)\n",
    "training_set = subset(dataset, split == TRUE)\n",
    "test_set = subset(dataset, split == FALSE)"
   ]
  },
  {
   "cell_type": "markdown",
   "metadata": {},
   "source": [
    "# Feature Scaling"
   ]
  },
  {
   "cell_type": "code",
   "execution_count": 9,
   "metadata": {},
   "outputs": [],
   "source": [
    "training_set[-3] = scale(training_set[-3])\n",
    "test_set[-3] = scale(test_set[-3])"
   ]
  },
  {
   "cell_type": "markdown",
   "metadata": {},
   "source": [
    "# Fitting K-NN to the Training set and Predicting the Test set results"
   ]
  },
  {
   "cell_type": "code",
   "execution_count": 10,
   "metadata": {},
   "outputs": [],
   "source": [
    "library(class)\n",
    "y_pred = knn(train = training_set[, -3],\n",
    "             test = test_set[, -3],\n",
    "             cl = training_set[, 3],\n",
    "             k = 5,\n",
    "             prob = TRUE)"
   ]
  },
  {
   "cell_type": "markdown",
   "metadata": {},
   "source": [
    "# Making the Confusion Matrix"
   ]
  },
  {
   "cell_type": "code",
   "execution_count": 12,
   "metadata": {},
   "outputs": [],
   "source": [
    "cm = table(test_set[, 3], y_pred)"
   ]
  },
  {
   "cell_type": "code",
   "execution_count": 13,
   "metadata": {},
   "outputs": [
    {
     "data": {
      "text/plain": [
       "   y_pred\n",
       "     0  1\n",
       "  0 59  5\n",
       "  1  6 30"
      ]
     },
     "metadata": {},
     "output_type": "display_data"
    }
   ],
   "source": [
    "cm"
   ]
  },
  {
   "cell_type": "markdown",
   "metadata": {},
   "source": [
    "# Visualising the Training set results"
   ]
  },
  {
   "cell_type": "code",
   "execution_count": 15,
   "metadata": {},
   "outputs": [
    {
     "name": "stdout",
     "output_type": "stream",
     "text": [
      "package 'ElemStatLearn' successfully unpacked and MD5 sums checked\n",
      "\n",
      "The downloaded binary packages are in\n",
      "\tC:\\Users\\bimalgupta\\AppData\\Local\\Temp\\RtmpeMmXJ4\\downloaded_packages\n"
     ]
    }
   ],
   "source": [
    "install.packages('ElemStatLearn')"
   ]
  },
  {
   "cell_type": "code",
   "execution_count": 18,
   "metadata": {},
   "outputs": [
    {
     "data": {
      "image/png": "[encoded data removed]",
      "text/plain": [
       "Plot with title \"K-NN (Training set)\""
      ]
     },
     "metadata": {},
     "output_type": "display_data"
    }
   ],
   "source": [
    "library(ElemStatLearn)\n",
    "set = training_set\n",
    "X1 = seq(min(set[, 1]) - 1, max(set[, 1]) + 1, by = 0.01)\n",
    "X2 = seq(min(set[, 2]) - 1, max(set[, 2]) + 1, by = 0.01)\n",
    "grid_set = expand.grid(X1, X2)\n",
    "colnames(grid_set) = c('Age', 'EstimatedSalary')\n",
    "y_grid = knn(train = training_set[, -3], test = grid_set, cl = training_set[, 3], k = 5)\n",
    "plot(set[, -3],\n",
    "     main = 'K-NN (Training set)',\n",
    "     xlab = 'Age', ylab = 'Estimated Salary',\n",
    "     xlim = range(X1), ylim = range(X2))\n",
    "contour(X1, X2, matrix(as.numeric(y_grid), length(X1), length(X2)), add = TRUE)\n",
    "points(grid_set, pch = '.', col = ifelse(y_grid == 1, 'blue', 'tomato'))\n",
    "points(set, pch = 21, bg = ifelse(set[, 3] == 1, 'yellow', 'red3'))\n"
   ]
  },
  {
   "cell_type": "markdown",
   "metadata": {},
   "source": [
    "# Visualising the Test set results"
   ]
  },
  {
   "cell_type": "code",
   "execution_count": 17,
   "metadata": {},
   "outputs": [
    {
     "data": {
      "image/png": "[encoded data removed]",
      "text/plain": [
       "Plot with title \"K-NN (Test set)\""
      ]
     },
     "metadata": {},
     "output_type": "display_data"
    }
   ],
   "source": [
    "library(ElemStatLearn)\n",
    "set = test_set\n",
    "X1 = seq(min(set[, 1]) - 1, max(set[, 1]) + 1, by = 0.01)\n",
    "X2 = seq(min(set[, 2]) - 1, max(set[, 2]) + 1, by = 0.01)\n",
    "grid_set = expand.grid(X1, X2)\n",
    "colnames(grid_set) = c('Age', 'EstimatedSalary')\n",
    "y_grid = knn(train = training_set[, -3], test = grid_set, cl = training_set[, 3], k = 5)\n",
    "plot(set[, -3],\n",
    "     main = 'K-NN (Test set)',\n",
    "     xlab = 'Age', ylab = 'Estimated Salary',\n",
    "     xlim = range(X1), ylim = range(X2))\n",
    "contour(X1, X2, matrix(as.numeric(y_grid), length(X1), length(X2)), add = TRUE)\n",
    "points(grid_set, pch = '.', col = ifelse(y_grid == 1, 'blue', 'tomato'))\n",
    "points(set, pch = 21, bg = ifelse(set[, 3] == 1, 'g', 'red3'))"
   ]
  },
  {
   "cell_type": "code",
   "execution_count": null,
   "metadata": {},
   "outputs": [],
   "source": []
  }
 ],
 "metadata": {
  "kernelspec": {
   "display_name": "R",
   "language": "R",
   "name": "ir"
  },
  "language_info": {
   "codemirror_mode": "r",
   "file_extension": ".r",
   "mimetype": "text/x-r-source",
   "name": "R",
   "pygments_lexer": "r",
   "version": "3.6.0"
  }
 },
 "nbformat": 4,
 "nbformat_minor": 4
}
